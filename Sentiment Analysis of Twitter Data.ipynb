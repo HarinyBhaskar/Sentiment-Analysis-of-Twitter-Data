{
  "cells": [
    {
      "cell_type": "code",
      "execution_count": null,
      "metadata": {
        "colab": {
          "base_uri": "https://localhost:8080/"
        },
        "id": "EXi74fT-nYm1",
        "outputId": "9f97d02e-1c30-44ef-c9fa-cdc82660f81c"
      },
      "outputs": [
        {
          "output_type": "stream",
          "name": "stdout",
          "text": [
            "Requirement already satisfied: pyspark in /usr/local/lib/python3.10/dist-packages (3.5.3)\n",
            "Collecting emoji\n",
            "  Downloading emoji-2.14.0-py3-none-any.whl.metadata (5.7 kB)\n",
            "Requirement already satisfied: textblob in /usr/local/lib/python3.10/dist-packages (0.17.1)\n",
            "Requirement already satisfied: py4j==0.10.9.7 in /usr/local/lib/python3.10/dist-packages (from pyspark) (0.10.9.7)\n",
            "Requirement already satisfied: nltk>=3.1 in /usr/local/lib/python3.10/dist-packages (from textblob) (3.9.1)\n",
            "Requirement already satisfied: click in /usr/local/lib/python3.10/dist-packages (from nltk>=3.1->textblob) (8.1.7)\n",
            "Requirement already satisfied: joblib in /usr/local/lib/python3.10/dist-packages (from nltk>=3.1->textblob) (1.4.2)\n",
            "Requirement already satisfied: regex>=2021.8.3 in /usr/local/lib/python3.10/dist-packages (from nltk>=3.1->textblob) (2024.11.6)\n",
            "Requirement already satisfied: tqdm in /usr/local/lib/python3.10/dist-packages (from nltk>=3.1->textblob) (4.67.1)\n",
            "Downloading emoji-2.14.0-py3-none-any.whl (586 kB)\n",
            "\u001b[2K   \u001b[90m━━━━━━━━━━━━━━━━━━━━━━━━━━━━━━━━━━━━━━━━\u001b[0m \u001b[32m586.9/586.9 kB\u001b[0m \u001b[31m8.0 MB/s\u001b[0m eta \u001b[36m0:00:00\u001b[0m\n",
            "\u001b[?25hInstalling collected packages: emoji\n",
            "Successfully installed emoji-2.14.0\n"
          ]
        }
      ],
      "source": [
        "!pip install pyspark emoji textblob"
      ]
    },
    {
      "cell_type": "code",
      "execution_count": null,
      "metadata": {
        "colab": {
          "base_uri": "https://localhost:8080/"
        },
        "id": "svKvEeV_nY3M",
        "outputId": "e3cf46c8-5238-497d-f8b7-e5071402cf91"
      },
      "outputs": [
        {
          "output_type": "stream",
          "name": "stdout",
          "text": [
            "+-----+----------------------+--------------------+-----------+----------------------+---------+--------------------+------------------------------------+-------------------------+---------------+-------------+-------------------------------------------------------------------------------------------------------------+----------------------------------------------------------------+----------------------------------------+---------------------------------------------------------------------+-----------------------------+-------------------------+----------------------------------------------------------------------------------------------------------------------------+---------------------------------------------------------------------------------------------------------+-------------------------------------------------------------------------------------------------------------+------------------------------------------------------------------------------------------------------------+------------------------------------------------------------------------------------------------------------+---------------+\n",
            "|id   |candidate             |candidate_confidence|relevant_yn|relevant_yn_confidence|sentiment|sentiment_confidence|subject_matter                      |subject_matter_confidence|name           |retweet_count|text                                                                                                         |tweet_coord                                                     |tweet_created                           |tweet_id                                                             |tweet_location               |user_timezone            |words                                                                                                                       |filtered_words                                                                                           |text_no_emoji                                                                                                |text_no_urls                                                                                                |text_clean                                                                                                  |sentiment_label|\n",
            "+-----+----------------------+--------------------+-----------+----------------------+---------+--------------------+------------------------------------+-------------------------+---------------+-------------+-------------------------------------------------------------------------------------------------------------+----------------------------------------------------------------+----------------------------------------+---------------------------------------------------------------------+-----------------------------+-------------------------+----------------------------------------------------------------------------------------------------------------------------+---------------------------------------------------------------------------------------------------------+-------------------------------------------------------------------------------------------------------------+------------------------------------------------------------------------------------------------------------+------------------------------------------------------------------------------------------------------------+---------------+\n",
            "|87   |No candidate mentioned|1.0                 |yes        |1.0                   |Negative |0.6889              |Abortion                            |0.6889                   |JoshDorner     |0            |They’re all Todd Akin now: How the Planned Parenthood sting backfired on Republicans #GOPDebate #StandwithPP |NULL                                                            |NULL                                    |NULL                                                                 |NULL                         |NULL                     |[they’re, all, todd, akin, now:, how, the, planned, parenthood, sting, backfired, on, republicans, #gopdebate, #standwithpp]|[they’re, todd, akin, now:, planned, parenthood, sting, backfired, republicans, #gopdebate, #standwithpp]|They’re all Todd Akin now: How the Planned Parenthood sting backfired on Republicans #GOPDebate #StandwithPP |They’re all Todd Akin now: How the Planned Parenthood sting backfired on Republicans #GOPDebate #StandwithPP|They re all Todd Akin now  How the Planned Parenthood sting backfired on Republicans  GOPDebate  StandwithPP|Neutral        |\n",
            "|10891|No candidate mentioned|1.0                 |yes        |1.0                   |Negative |1.0                 |Religion                            |0.6656                   |laurenreeves   |6            |\"\"\"Stay tuned for closing statements                                                                         | final thoughts                                                 | and God.\"\" And then I turned off the TV| I'm good. #GOPDebates\"                                              |NULL                         |2015-08-06 19:47:24 -0700|[\"\"\"stay, tuned, for, closing, statements]                                                                                  |[\"\"\"stay, tuned, closing, statements]                                                                    |\"\"\"Stay tuned for closing statements                                                                         |\"\"\"Stay tuned for closing statements                                                                        |   Stay tuned for closing statements                                                                        |Neutral        |\n",
            "|7859 |No candidate mentioned|1.0                 |yes        |1.0                   |Neutral  |0.6227              |Racial issues                       |1.0                      |MamoudouNDiaye |1            |\"\"\"One Fish                                                                                                  | Two Fish                                                       | Red Fish                               | Racist\"\" - Dr. Seuss's review of the #GOPDebate\"                    |NULL                         |2015-08-07 08:54:19 -0700|[\"\"\"one, fish]                                                                                                              |[\"\"\"one, fish]                                                                                           |\"\"\"One Fish                                                                                                  |\"\"\"One Fish                                                                                                 |   One Fish                                                                                                 |Neutral        |\n",
            "|945  |Donald Trump          |1.0                 |yes        |1.0                   |Negative |1.0                 |None of the above                   |1.0                      |JimC146        |0            |\"\"\"[Trump] has no integrity                                                                                  | no character                                                   | and no principles                      | and he's proud of it.\"\" - @MattWalshBlog                            |NULL                         |NULL                     |[\"\"\"[trump], has, no, integrity]                                                                                            |[\"\"\"[trump], integrity]                                                                                  |\"\"\"[Trump] has no integrity                                                                                  |\"\"\"[Trump] has no integrity                                                                                 |    Trump  has no integrity                                                                                 |Neutral        |\n",
            "|7717 |John Kasich           |0.6897              |yes        |1.0                   |Positive |0.6437              |Religion                            |0.6437                   |McMistress     |0            |\"\"\"God gives me unconditional love                                                                           | I'm going to give it to my family                              | my friends                             | and the people around me.\"\" ~ Kasich #GOPDebate\"                    |NULL                         |2015-08-07 08:00:33 -0700|[\"\"\"god, gives, me, unconditional, love]                                                                                    |[\"\"\"god, gives, unconditional, love]                                                                     |\"\"\"God gives me unconditional love                                                                           |\"\"\"God gives me unconditional love                                                                          |   God gives me unconditional love                                                                          |Positive       |\n",
            "|5395 |Scott Walker          |0.4178              |yes        |0.6463                |Negative |0.6463              |Abortion                            |0.4178                   |SmittyMyBro    |0            |\"\"\"Governor Walker                                                                                           | you've...said you want to make abortion illegal. Even in...rape| incest                                 | or to save the life of the mother\"\"                                 |NULL                         |NULL                     |[\"\"\"governor, walker]                                                                                                       |[\"\"\"governor, walker]                                                                                    |\"\"\"Governor Walker                                                                                           |\"\"\"Governor Walker                                                                                          |   Governor Walker                                                                                          |Neutral        |\n",
            "|7220 |Donald Trump          |1.0                 |yes        |1.0                   |Negative |0.6512              |Women's Issues (not abortion though)|0.6512                   |SmittyMyBro    |0            |\"\"\"Mr.Trump                                                                                                  | you've called women fat pigs                                   | dogs                                   | slobs                                                               | and disgusting animals...\"\" |NULL                     |[\"\"\"mr.trump]                                                                                                               |[\"\"\"mr.trump]                                                                                            |\"\"\"Mr.Trump                                                                                                  |\"\"\"Mr.Trump                                                                                                 |   Mr Trump                                                                                                 |Neutral        |\n",
            "|6775 |Donald Trump          |0.4227              |yes        |0.6502                |Negative |0.6502              |None of the above                   |0.4227                   |the_ken_leonard|0            |\"@NYTimeskrugman: #DonaldTrump \"\"is                                                                          | fundamentally                                                  | an absurd figure                       | so are his rivals\"\" http://t.co/j9MrfLRzS6 #GOPDebate #election2015\"|NULL                         |2015-08-07 08:15:17 -0700|[\"@nytimeskrugman:, #donaldtrump, \"\"is]                                                                                     |[\"@nytimeskrugman:, #donaldtrump, \"\"is]                                                                  |\"@NYTimeskrugman: #DonaldTrump \"\"is                                                                          |\"@NYTimeskrugman: #DonaldTrump \"\"is                                                                         |  NYTimeskrugman   DonaldTrump   is                                                                         |Neutral        |\n",
            "|11480|No candidate mentioned|1.0                 |yes        |1.0                   |Negative |0.6489              |FOX News or Moderators              |0.6702                   |MoustacheClubUS|1            |\"c'mon, megyn, let's get to the issues: jade helm, fluoride, \"\"trayvon riots                                 |\"\" fema camps                                                   | freemasonry                            | the trilateral commission #GOPDebates\"                              |NULL                         |2015-08-06 19:36:11 -0700|[\"c'mon,, megyn,, let's, get, to, the, issues:, jade, helm,, fluoride,, \"\"trayvon, riots]                                   |[\"c'mon,, megyn,, get, issues:, jade, helm,, fluoride,, \"\"trayvon, riots]                                |\"c'mon, megyn, let's get to the issues: jade helm, fluoride, \"\"trayvon riots                                 |\"c'mon, megyn, let's get to the issues: jade helm, fluoride, \"\"trayvon riots                                | c mon  megyn  let s get to the issues  jade helm  fluoride    trayvon riots                                |Neutral        |\n",
            "|2064 |Donald Trump          |1.0                 |yes        |1.0                   |Negative |0.6277              |FOX News or Moderators              |1.0                      |pir8dave       |0            |\"I loathe Faux Nooz, kudos to Ms. Kelly going after \"\"Da Donald                                              |\"\" the misogynistic                                             | bloviating                             | xenophobic                                                          | carnival barker. #GOPdebate\"|NULL                     |[\"i, loathe, faux, nooz,, kudos, to, ms., kelly, going, after, \"\"da, donald]                                                |[\"i, loathe, faux, nooz,, kudos, ms., kelly, going, \"\"da, donald]                                        |\"I loathe Faux Nooz, kudos to Ms. Kelly going after \"\"Da Donald                                              |\"I loathe Faux Nooz, kudos to Ms. Kelly going after \"\"Da Donald                                             | I loathe Faux Nooz  kudos to Ms  Kelly going after   Da Donald                                             |Neutral        |\n",
            "+-----+----------------------+--------------------+-----------+----------------------+---------+--------------------+------------------------------------+-------------------------+---------------+-------------+-------------------------------------------------------------------------------------------------------------+----------------------------------------------------------------+----------------------------------------+---------------------------------------------------------------------+-----------------------------+-------------------------+----------------------------------------------------------------------------------------------------------------------------+---------------------------------------------------------------------------------------------------------+-------------------------------------------------------------------------------------------------------------+------------------------------------------------------------------------------------------------------------+------------------------------------------------------------------------------------------------------------+---------------+\n",
            "only showing top 10 rows\n",
            "\n"
          ]
        }
      ],
      "source": [
        "from pyspark.sql import SparkSession\n",
        "from pyspark.sql.functions import col, lower, trim, udf\n",
        "from pyspark.sql.types import StringType\n",
        "from pyspark.ml.feature import Tokenizer, StopWordsRemover\n",
        "from textblob import TextBlob\n",
        "import emoji\n",
        "\n",
        "spark = SparkSession.builder.appName(\"Data Preprocessing\").getOrCreate()\n",
        "\n",
        "data_path = \"Sentiment.csv\"  # Change to the correct path\n",
        "df = spark.read.csv(data_path, header=True, inferSchema=True)\n",
        "\n",
        "# Remove retweets\n",
        "clean_df = df.filter(~col(\"text\").startswith(\"RT\"))\n",
        "cleaned_df =clean_df.filter(~col(\"text\").startswith('\"RT'))\n",
        "\n",
        "# Drop duplicates based on tweet_id\n",
        "cleaned_df = cleaned_df.dropDuplicates([\"tweet_id\"])\n",
        "\n",
        "# Drop unwanted columns\n",
        "columns_to_drop = [\"candidate_gold\", \"sentiment_gold\", \"subject_matter_gold\",\"relevant_yn_gold\"]\n",
        "cleaned_df = cleaned_df.drop(*columns_to_drop)\n",
        "\n",
        "# Keep only relevant tweets\n",
        "cleaned_df = cleaned_df.filter(col(\"relevant_yn\") == \"yes\")\n",
        "\n",
        "#Tokenize text and remove stop words\n",
        "tokenizer = Tokenizer(inputCol=\"text\", outputCol=\"words\")\n",
        "tokenized_df = tokenizer.transform(cleaned_df)\n",
        "\n",
        "stopwords_remover = StopWordsRemover(inputCol=\"words\", outputCol=\"filtered_words\")\n",
        "cleaned_tokenized_df = stopwords_remover.transform(tokenized_df)\n",
        "\n",
        "#Replace emojis with text\n",
        "def replace_emojis(text):\n",
        "    return emoji.demojize(text, delimiters=(\" \", \" \"))\n",
        "\n",
        "emoji_udf = udf(replace_emojis, StringType())\n",
        "cleaned_df = cleaned_tokenized_df.withColumn(\"text_no_emoji\", emoji_udf(col(\"text\")))\n",
        "\n",
        "#Remove URLs\n",
        "def remove_urls(text):\n",
        "    words = text.split()\n",
        "    words = [word for word in words if not word.startswith(\"http\")]\n",
        "    return \" \".join(words)\n",
        "\n",
        "remove_urls_udf = udf(remove_urls, StringType())\n",
        "cleaned_df = cleaned_df.withColumn(\"text_no_urls\", remove_urls_udf(col(\"text_no_emoji\")))\n",
        "\n",
        "#Remove special characters and keep only alphabetic characters and spaces.\n",
        "def remove_special_characters(text):\n",
        "    return \"\".join([char if char.isalpha() or char.isspace() else \" \" for char in text])\n",
        "\n",
        "remove_special_udf = udf(remove_special_characters, StringType())\n",
        "cleaned_df = cleaned_df.withColumn(\"text_clean\", remove_special_udf(col(\"text_no_urls\")))\n",
        "\n",
        "#Sentiment analysis\n",
        "def get_sentiment(text_clean):\n",
        "    analysis = TextBlob(text_clean)\n",
        "    if analysis.sentiment.polarity > 0:\n",
        "        return \"Positive\"\n",
        "    elif analysis.sentiment.polarity < 0:\n",
        "        return \"Negative\"\n",
        "    else:\n",
        "        return \"Neutral\"\n",
        "\n",
        "sentiment_udf = udf(get_sentiment, StringType())\n",
        "cleaned_df = cleaned_df.withColumn(\"sentiment_label\", sentiment_udf(col(\"text_clean\")))\n",
        "\n",
        "# Display cleaned data\n",
        "cleaned_df.show(10, truncate=False)\n"
      ]
    },
    {
      "cell_type": "code",
      "execution_count": null,
      "metadata": {
        "id": "7GbJzZtdoVx8",
        "colab": {
          "base_uri": "https://localhost:8080/",
          "height": 929
        },
        "outputId": "86bf46a3-4a34-4db0-ab60-25330709c79c"
      },
      "outputs": [
        {
          "output_type": "stream",
          "name": "stdout",
          "text": [
            "Accuracy of the sentiment model: 0.62\n"
          ]
        },
        {
          "output_type": "stream",
          "name": "stderr",
          "text": [
            "/usr/local/lib/python3.10/dist-packages/pyspark/sql/context.py:158: FutureWarning: Deprecated in 3.0.0. Use SparkSession.builder.getOrCreate() instead.\n",
            "  warnings.warn(\n"
          ]
        },
        {
          "output_type": "display_data",
          "data": {
            "text/plain": [
              "<Figure size 800x600 with 1 Axes>"
            ],
            "image/png": "[encoded data removed]"
          },
          "metadata": {}
        },
        {
          "output_type": "stream",
          "name": "stdout",
          "text": [
            "+-------------------------------------------------------------------------------------------------------------------------------------------+---------------+----------+\n",
            "|text_clean                                                                                                                                 |sentiment_label|prediction|\n",
            "+-------------------------------------------------------------------------------------------------------------------------------------------+---------------+----------+\n",
            "|Cruz  New Sheriff in town  Nice summary  He cherishes freedom   your freedom   GOPDebates                                                  |Positive       |0.0       |\n",
            "|Santorum said he wants to make America the    manufacturing country  Manufacturing is   th century thinking  We need high tech   GOPDebates|Positive       |0.0       |\n",
            "|I ve been using the wrong hashtag   GOPDebates  GOPDebate                                                                                  |Negative       |1.0       |\n",
            "|Ehh I ll say    Rubio    Trump    Walker    Kasich    Bush    Cruz    Carson    Christie    Huckabee     Rand Paul  GOPDebates             |Neutral        |1.0       |\n",
            "|Did Scott Walker say he had a wife  two kids and a harlot   GOPDebates  FoxDebates  ClownCarChronicles                                     |Neutral        |1.0       |\n",
            "|Shout out to Bernie Sanders for slipping under the radar of these democrat jokes  GOPDebates                                               |Negative       |1.0       |\n",
            "|Why watch    contenders debate when you can just watch Megyn Kelly   GOPdebates                                                            |Neutral        |1.0       |\n",
            "|Is that Ben Carson or Johnny Carson   GOPDebates                                                                                           |Neutral        |1.0       |\n",
            "| tedcruz gets my vote after tonight  but Dr  Carson is a very close second   GOPdebates                                                    |Positive       |1.0       |\n",
            "|LOL  bencarson  GOPDebates but seriously you didn t answer the question                                                                    |Positive       |2.0       |\n",
            "+-------------------------------------------------------------------------------------------------------------------------------------------+---------------+----------+\n",
            "only showing top 10 rows\n",
            "\n"
          ]
        }
      ],
      "source": [
        "import matplotlib.pyplot as plt\n",
        "import seaborn as sns\n",
        "from pyspark.mllib.evaluation import MulticlassMetrics\n",
        "from pyspark.ml import Pipeline\n",
        "from pyspark.ml.classification import LogisticRegression\n",
        "from pyspark.ml.feature import CountVectorizer, StringIndexer\n",
        "from pyspark.ml.evaluation import MulticlassClassificationEvaluator\n",
        "from pyspark.sql import SparkSession\n",
        "\n",
        "label_indexer = StringIndexer(inputCol=\"sentiment_label\", outputCol=\"label\")\n",
        "vectorizer = CountVectorizer(inputCol=\"filtered_words\", outputCol=\"features\")\n",
        "\n",
        "#Initializes a logistic regression model.\n",
        "logistic_regression = LogisticRegression(featuresCol=\"features\", labelCol=\"label\")\n",
        "pipeline = Pipeline(stages=[label_indexer, vectorizer, logistic_regression])\n",
        "\n",
        "# Train the Model\n",
        "train_df, test_df = cleaned_df.randomSplit([0.8, 0.2], seed=42)\n",
        "model = pipeline.fit(train_df)\n",
        "\n",
        "# Make Predictions\n",
        "predictions = model.transform(test_df)\n",
        "\n",
        "# Calculate Accuracy\n",
        "evaluator = MulticlassClassificationEvaluator(\n",
        "    labelCol=\"label\",\n",
        "    predictionCol=\"prediction\",\n",
        "    metricName=\"accuracy\"\n",
        ")\n",
        "accuracy = evaluator.evaluate(predictions)\n",
        "\n",
        "print(f\"Accuracy of the sentiment model: {accuracy:.2f}\")\n",
        "\n",
        "#Confusion Matrix\n",
        "predictions_and_labels = predictions.select(\"prediction\", \"label\").rdd\n",
        "metrics = MulticlassMetrics(predictions_and_labels)\n",
        "confusion_matrix = metrics.confusionMatrix().toArray()\n",
        "\n",
        "plt.figure(figsize=(8, 6))\n",
        "sns.heatmap(confusion_matrix, annot=True, fmt=\".0f\", cmap=\"Blues\", cbar=False)\n",
        "plt.xlabel(\"Predicted\")\n",
        "plt.ylabel(\"Actual\")\n",
        "plt.title(\"Confusion Matrix for Sentiment Analysis\")\n",
        "plt.show()\n",
        "\n",
        "# Compare Actual vs. Predicted\n",
        "predictions.select(\"text_clean\", \"sentiment_label\", \"prediction\").show(10, truncate=False)"
      ]
    },
    {
      "cell_type": "code",
      "execution_count": null,
      "metadata": {
        "id": "Y7bynQZ3qEAG",
        "colab": {
          "base_uri": "https://localhost:8080/",
          "height": 1000
        },
        "outputId": "ea62a097-b29c-4847-aad7-fa8e4a62e219"
      },
      "outputs": [
        {
          "output_type": "stream",
          "name": "stdout",
          "text": [
            "Root Mean Squared Error (RMSE): 0.7331581773635055\n",
            "R² (Explained Variance): 0.07966124788395001\n"
          ]
        },
        {
          "output_type": "display_data",
          "data": {
            "text/plain": [
              "<Figure size 1000x600 with 1 Axes>"
            ],
            "image/png": "[encoded data removed]"
          },
          "metadata": {}
        },
        {
          "output_type": "stream",
          "name": "stdout",
          "text": [
            "+-----+--------------------+--------------------+-----------+----------------------+---------+--------------------+--------------------+-------------------------+---------------+-------------+--------------------+--------------------+--------------------+--------------------+--------------------+--------------------+--------------------+--------------------+--------------------+--------------------+--------------------+---------------+-----------------+--------------------+--------------------+--------------------+\n",
            "|   id|           candidate|candidate_confidence|relevant_yn|relevant_yn_confidence|sentiment|sentiment_confidence|      subject_matter|subject_matter_confidence|           name|retweet_count|                text|         tweet_coord|       tweet_created|            tweet_id|      tweet_location|       user_timezone|               words|      filtered_words|       text_no_emoji|        text_no_urls|          text_clean|sentiment_label|sentiment_numeric|         word_tokens|        raw_features|            features|\n",
            "+-----+--------------------+--------------------+-----------+----------------------+---------+--------------------+--------------------+-------------------------+---------------+-------------+--------------------+--------------------+--------------------+--------------------+--------------------+--------------------+--------------------+--------------------+--------------------+--------------------+--------------------+---------------+-----------------+--------------------+--------------------+--------------------+\n",
            "|   87|No candidate ment...|                 1.0|        yes|                   1.0| Negative|              0.6889|            Abortion|                   0.6889|     JoshDorner|            0|They’re all Todd ...|                NULL|                NULL|                NULL|                NULL|                NULL|[they’re, all, to...|[they’re, todd, a...|They’re all Todd ...|They’re all Todd ...|They re all Todd ...|        Neutral|               -1|[they, re, all, t...|(100,[1,2,9,14,17...|(100,[1,2,9,14,17...|\n",
            "|10891|No candidate ment...|                 1.0|        yes|                   1.0| Negative|                 1.0|            Religion|                   0.6656|   laurenreeves|            6|\"\"\"Stay tuned for...|      final thoughts| and God.\"\" And t...| I'm good. #GOPDe...|                NULL|2015-08-06 19:47:...|[\"\"\"stay, tuned, ...|[\"\"\"stay, tuned, ...|\"\"\"Stay tuned for...|\"\"\"Stay tuned for...|   Stay tuned for...|        Neutral|               -1|[, , , stay, tune...|(100,[17,33,44,72...|(100,[17,33,44,72...|\n",
            "| 7859|No candidate ment...|                 1.0|        yes|                   1.0|  Neutral|              0.6227|       Racial issues|                      1.0| MamoudouNDiaye|            1|         \"\"\"One Fish|            Two Fish|            Red Fish| Racist\"\" - Dr. S...|                NULL|2015-08-07 08:54:...|      [\"\"\"one, fish]|      [\"\"\"one, fish]|         \"\"\"One Fish|         \"\"\"One Fish|            One Fish|        Neutral|                0|   [, , , one, fish]|(100,[15,72,76],[...|(100,[15,72,76],[...|\n",
            "|  945|        Donald Trump|                 1.0|        yes|                   1.0| Negative|                 1.0|   None of the above|                      1.0|        JimC146|            0|\"\"\"[Trump] has no...|        no character|   and no principles| and he's proud o...|                NULL|                NULL|[\"\"\"[trump], has,...|[\"\"\"[trump], inte...|\"\"\"[Trump] has no...|\"\"\"[Trump] has no...|    Trump  has no...|        Neutral|               -1|[, , , , trump, ,...|(100,[4,12,22,66,...|(100,[4,12,22,66,...|\n",
            "| 7717|         John Kasich|              0.6897|        yes|                   1.0| Positive|              0.6437|            Religion|                   0.6437|     McMistress|            0|\"\"\"God gives me u...| I'm going to giv...|          my friends| and the people a...|                NULL|2015-08-07 08:00:...|[\"\"\"god, gives, m...|[\"\"\"god, gives, u...|\"\"\"God gives me u...|\"\"\"God gives me u...|   God gives me u...|       Positive|                1|[, , , god, gives...|(100,[10,34,40,44...|(100,[10,34,40,44...|\n",
            "| 5395|        Scott Walker|              0.4178|        yes|                0.6463| Negative|              0.6463|            Abortion|                   0.4178|    SmittyMyBro|            0|  \"\"\"Governor Walker| you've...said yo...|              incest| or to save the l...|                NULL|                NULL|[\"\"\"governor, wal...|[\"\"\"governor, wal...|  \"\"\"Governor Walker|  \"\"\"Governor Walker|     Governor Walker|        Neutral|               -1|[, , , governor, ...|(100,[30,64,72],[...|(100,[30,64,72],[...|\n",
            "| 7220|        Donald Trump|                 1.0|        yes|                   1.0| Negative|              0.6512|Women's Issues (n...|                   0.6512|    SmittyMyBro|            0|         \"\"\"Mr.Trump| you've called wo...|                dogs|               slobs| and disgusting a...|                NULL|       [\"\"\"mr.trump]|       [\"\"\"mr.trump]|         \"\"\"Mr.Trump|         \"\"\"Mr.Trump|            Mr Trump|        Neutral|               -1|   [, , , mr, trump]|(100,[12,47,72],[...|(100,[12,47,72],[...|\n",
            "| 6775|        Donald Trump|              0.4227|        yes|                0.6502| Negative|              0.6502|   None of the above|                   0.4227|the_ken_leonard|            0|\"@NYTimeskrugman:...|       fundamentally|    an absurd figure| so are his rival...|                NULL|2015-08-07 08:15:...|[\"@nytimeskrugman...|[\"@nytimeskrugman...|\"@NYTimeskrugman:...|\"@NYTimeskrugman:...|  NYTimeskrugman ...|        Neutral|               -1|[, , nytimeskrugm...|(100,[9,46,72,75]...|(100,[9,46,72,75]...|\n",
            "|11480|No candidate ment...|                 1.0|        yes|                   1.0| Negative|              0.6489|FOX News or Moder...|                   0.6702|MoustacheClubUS|            1|\"c'mon, megyn, le...|       \"\" fema camps|         freemasonry| the trilateral c...|                NULL|2015-08-06 19:36:...|[\"c'mon,, megyn,,...|[\"c'mon,, megyn,,...|\"c'mon, megyn, le...|\"c'mon, megyn, le...| c mon  megyn  le...|        Neutral|               -1|[, c, mon, , megy...|(100,[11,17,26,27...|(100,[11,17,26,27...|\n",
            "| 2064|        Donald Trump|                 1.0|        yes|                   1.0| Negative|              0.6277|FOX News or Moder...|                      1.0|       pir8dave|            0|\"I loathe Faux No...| \"\" the misogynistic|          bloviating|          xenophobic| carnival barker....|                NULL|[\"i, loathe, faux...|[\"i, loathe, faux...|\"I loathe Faux No...|\"I loathe Faux No...| I loathe Faux No...|        Neutral|               -1|[, i, loathe, fau...|(100,[15,30,38,55...|(100,[15,30,38,55...|\n",
            "|13528|No candidate ment...|                 1.0|        yes|                   1.0| Negative|                 1.0|   None of the above|                      1.0|The_ZenMistress|            0|\"How liberating t...| but this shit ma...|                NULL|2015-08-06 19:02:...|  629472688738844672|Nomad Currently S...|[\"how, liberating...|[\"how, liberating...|\"How liberating t...|\"How liberating t...| How liberating t...|       Negative|               -1|[, how, liberatin...|(100,[11,16,36,37...|(100,[11,16,36,37...|\n",
            "|13508|          Ben Carson|                 1.0|        yes|                   1.0| Negative|              0.3448|   None of the above|                      1.0|Trentwalker1968|            0|\"What is \"\"the Al...| takingadvantage ...|                NULL|2015-08-06 19:02:...|  629472764722724864|         Jackson, MS|[\"what, is, \"\"the...|[\"what, \"\"the, al...|\"What is \"\"the Al...|\"What is \"\"the Al...| What is   the Al...|        Neutral|               -1|[, what, is, , , ...|(100,[2,9,17,26,4...|(100,[2,9,17,26,4...|\n",
            "|13502|          Ben Carson|                 1.0|        yes|                   1.0| Negative|                 1.0|    Jobs and Economy|                   0.3402|  RyanBenharris|            0|\"Carson says \"\"Ep...| your front runne...|                NULL|2015-08-06 19:03:...|  629472780145311745|                NULL|[\"carson, says, \"...|[\"carson, says, \"...|\"Carson says \"\"Ep...|\"Carson says \"\"Ep...| Carson says   Ep...|       Negative|               -1|[, carson, says, ...|(100,[17,30,41,51...|(100,[17,30,41,51...|\n",
            "|13446|            Jeb Bush|                 1.0|        yes|                   1.0|  Neutral|              0.6705|   None of the above|                      1.0| SamanthaJoRoth|            0|\".@JebBush - \"\"Hi...| give me a break!...|                NULL|2015-08-06 19:04:...|  629473119766495232|    Des Moines, Iowa|[\".@jebbush, -, \"...|[\".@jebbush, -, \"...|\".@JebBush - \"\"Hi...|\".@JebBush - \"\"Hi...|   JebBush     Hi...|        Neutral|                0|[, , , jebbush, ,...|(100,[3,6,14,17,2...|(100,[3,6,14,17,2...|\n",
            "|13337|No candidate ment...|                 1.0|        yes|                   1.0| Negative|                 1.0|   None of the above|                   0.6702| Rebecca_Halton|            0|\"Can't a gal just...| b/c that's cool....|                NULL|2015-08-06 19:06:...|  629473635523149825|                NULL|[\"can't, a, gal, ...|[\"can't, gal, enj...|\"Can't a gal just...|\"Can't a gal just...| Can t a gal just...|       Positive|               -1|[, can, t, a, gal...|(100,[0,5,7,21,25...|(100,[0,5,7,21,25...|\n",
            "|13080|       Mike Huckabee|                 1.0|        yes|                   1.0|  Neutral|              0.6754|   None of the above|                      1.0|       Dandie00|            0|\"\"\"Pimps and pros...|\"\" said Huckabee....|                NULL|2015-08-06 19:10:...|  629474708308799492|ÜT: 40.787257,-73...|[\"\"\"pimps, and, p...|[\"\"\"pimps, prosti...|\"\"\"Pimps and pros...|\"\"\"Pimps and pros...|   Pimps and pros...|        Neutral|                0|[, , , pimps, and...|(100,[22,65,72,91...|(100,[22,65,72,91...|\n",
            "|13052|No candidate ment...|              0.4492|        yes|                0.6702| Negative|              0.6702|         Immigration|                   0.2282|    maskedfairy|            0|       \"\"\"Illegals\"\"| \"\"prostitutes\"\"....|                NULL|2015-08-06 19:11:...|  629474808921739264|                NULL|     [\"\"\"illegals\"\"]|     [\"\"\"illegals\"\"]|       \"\"\"Illegals\"\"|       \"\"\"Illegals\"\"|          Illegals  |        Neutral|               -1|    [, , , illegals]|(100,[19,72],[1.0...|(100,[19,72],[2.1...|\n",
            "|12735|No candidate ment...|              0.4025|        yes|                0.6344| Negative|              0.6344|FOX News or Moder...|                   0.4025|       capitalV|            1|\"If the moderator...| how?\"\" this deba...|                NULL|2015-08-06 19:16:...|  629476190433189888|                 NYC|[\"if, the, modera...|[\"if, moderators,...|\"If the moderator...|\"If the moderator...| If the moderator...|       Positive|               -1|[, if, the, moder...|(100,[9,16,17,24,...|(100,[9,16,17,24,...|\n",
            "|12617|       Mike Huckabee|                 1.0|        yes|                   1.0|  Neutral|                 1.0|      Foreign Policy|                      1.0|  BrendanKKirby|            0|\"\"\"We got nothing...| @MikeHuckabeeGOP...|                NULL|2015-08-06 19:18:...|  629476710883262464|          Mobile, AL|[\"\"\"we, got, noth...|[\"\"\"we, got, noth...|\"\"\"We got nothing...|\"\"\"We got nothing...|   We got nothing...|        Neutral|                0|[, , , we, got, n...|(100,[4,10,33,36,...|(100,[4,10,33,36,...|\n",
            "|12487|No candidate ment...|                 1.0|        yes|                   1.0| Negative|              0.6566|   None of the above|                      1.0|     joeynovick|            2|\"#GOPDebate #gopd...|            dude.\"\"\"|                NULL|2015-08-06 19:20:...|  629477183573110784|      Flemington, NJ|[\"#gopdebate, #go...|[\"#gopdebate, #go...|\"#GOPDebate #gopd...|\"#GOPDebate #gopd...|  GOPDebate  gopd...|       Negative|               -1|[, , gopdebate, ,...|(100,[0,1,5,14,15...|(100,[0,1,5,14,15...|\n",
            "+-----+--------------------+--------------------+-----------+----------------------+---------+--------------------+--------------------+-------------------------+---------------+-------------+--------------------+--------------------+--------------------+--------------------+--------------------+--------------------+--------------------+--------------------+--------------------+--------------------+--------------------+---------------+-----------------+--------------------+--------------------+--------------------+\n",
            "only showing top 20 rows\n",
            "\n"
          ]
        }
      ],
      "source": [
        "import seaborn as sns\n",
        "import matplotlib.pyplot as plt\n",
        "from pyspark.sql import SparkSession\n",
        "from pyspark.sql.functions import col, when, countDistinct\n",
        "from pyspark.ml.feature import Tokenizer, HashingTF, IDF\n",
        "from pyspark.ml.regression import LinearRegression\n",
        "from pyspark.ml.evaluation import RegressionEvaluator\n",
        "\n",
        "\n",
        "if cleaned_df.count() == 0:\n",
        "    raise ValueError(\"The DataFrame 'cleaned_df' is empty. Please check data preparation steps.\")\n",
        "\n",
        "# 'sentiment' to numeric\n",
        "cleaned_df = cleaned_df.withColumn(\"sentiment_numeric\",\n",
        "                                   when(col(\"sentiment\") == \"Positive\", 1)\n",
        "                                   .when(col(\"sentiment\") == \"Neutral\", 0)\n",
        "                                   .when(col(\"sentiment\") == \"Negative\", -1)\n",
        "                                   .otherwise(None))\n",
        "\n",
        "#  Tokenize 'text_clean' into a new column\n",
        "tokenizer = Tokenizer(inputCol=\"text_clean\", outputCol=\"word_tokens\")  # Use a unique name\n",
        "df_tokenized = tokenizer.transform(cleaned_df)\n",
        "\n",
        "if df_tokenized.count() == 0:\n",
        "    raise ValueError(\"Tokenized DataFrame is empty. Check the 'text_clean' column for valid content.\")\n",
        "\n",
        "# Converts the tokenized words into a feature vector using the HashingTF\n",
        "hashing_tf = HashingTF(inputCol=\"word_tokens\", outputCol=\"raw_features\", numFeatures=100)\n",
        "df_hashed = hashing_tf.transform(df_tokenized)\n",
        "\n",
        "if df_hashed.count() == 0:\n",
        "    raise ValueError(\"Hashed DataFrame is empty. Check 'word_tokens' content.\")\n",
        "\n",
        "# create feature vectors and IDF transformation to scale down the impact of common words and highlight more informative words.\n",
        "idf = IDF(inputCol=\"raw_features\", outputCol=\"features\")\n",
        "idf_model = idf.fit(df_hashed)  # This line could cause issues if `df_hashed` is empty\n",
        "df_vectorized = idf_model.transform(df_hashed)\n",
        "\n",
        "#Selects only the relevant columns for training model\n",
        "df_prepared = df_vectorized.select(\"features\", \"sentiment_numeric\")\n",
        "\n",
        "lr = LinearRegression(featuresCol=\"features\", labelCol=\"sentiment_numeric\")\n",
        "lr_model = lr.fit(df_prepared)\n",
        "\n",
        "predictions = lr_model.transform(df_prepared)\n",
        "\n",
        "evaluator_rmse = RegressionEvaluator(labelCol='sentiment_numeric', predictionCol='prediction', metricName='rmse')\n",
        "evaluator_r2 = RegressionEvaluator(labelCol='sentiment_numeric', predictionCol='prediction', metricName='r2')\n",
        "\n",
        "rmse = evaluator_rmse.evaluate(predictions)\n",
        "r2 = evaluator_r2.evaluate(predictions)\n",
        "\n",
        "print(\"Root Mean Squared Error (RMSE):\", rmse)\n",
        "print(\"R² (Explained Variance):\", r2)\n",
        "\n",
        "df_pandas = predictions.select(\"features\", \"sentiment_numeric\", \"prediction\").toPandas()\n",
        "\n",
        "feature_values = [v[0] for v in df_pandas[\"features\"]]\n",
        "\n",
        "plt.figure(figsize=(10, 6))\n",
        "sns.scatterplot(x=feature_values, y=df_pandas[\"sentiment_numeric\"], color=\"blue\", label=\"Data Points\")\n",
        "\n",
        "y_pred = [v * lr_model.coefficients[0] + lr_model.intercept for v in feature_values]\n",
        "plt.plot(feature_values, y_pred, color=\"red\", label=\"Regression Line\")\n",
        "\n",
        "plt.xlabel(\"Text Feature (TF-IDF)\")\n",
        "plt.ylabel(\"Sentiment (Numeric)\")\n",
        "plt.title(\"Linear Regression with Text Feature\")\n",
        "\n",
        "plt.legend()\n",
        "\n",
        "plt.show()\n",
        "df_vectorized.show()"
      ]
    },
    {
      "cell_type": "markdown",
      "metadata": {
        "id": "9HLPr5nO4fSN"
      },
      "source": [
        "*Interpretation:*\n",
        "The blue points represent actual sentiment values against their corresponding features (TF-IDF).\n",
        "The red line represents the predicted sentiment based on linear regression.\n",
        "*Analysis:*\n",
        "If the points are widely scattered and do not closely follow the regression line, it indicates that the model may not be effectively capturing the relationship between features and sentiment."
      ]
    },
    {
      "cell_type": "code",
      "execution_count": null,
      "metadata": {
        "id": "glr-b1rUaUBI",
        "colab": {
          "base_uri": "https://localhost:8080/"
        },
        "outputId": "45154098-d4e9-4a24-be13-61a7c730cd13"
      },
      "outputs": [
        {
          "output_type": "stream",
          "name": "stderr",
          "text": [
            "[nltk_data] Downloading package wordnet to /root/nltk_data...\n",
            "[nltk_data] Downloading package omw-1.4 to /root/nltk_data...\n"
          ]
        },
        {
          "output_type": "execute_result",
          "data": {
            "text/plain": [
              "True"
            ]
          },
          "metadata": {},
          "execution_count": 5
        }
      ],
      "source": [
        "import nltk\n",
        "nltk.download('wordnet')\n",
        "nltk.download('omw-1.4')\n"
      ]
    },
    {
      "cell_type": "code",
      "execution_count": null,
      "metadata": {
        "id": "AmF5JgPEsnhD"
      },
      "outputs": [],
      "source": [
        "from pyspark.sql.types import StringType, ArrayType"
      ]
    },
    {
      "cell_type": "code",
      "execution_count": null,
      "metadata": {
        "id": "WyvSSqQHaCzd",
        "colab": {
          "base_uri": "https://localhost:8080/"
        },
        "outputId": "9ca3133f-2dbd-458a-dbad-0c0d603e11e8"
      },
      "outputs": [
        {
          "output_type": "stream",
          "name": "stdout",
          "text": [
            "Collecting langdetect\n",
            "  Downloading langdetect-1.0.9.tar.gz (981 kB)\n",
            "\u001b[?25l     \u001b[90m━━━━━━━━━━━━━━━━━━━━━━━━━━━━━━━━━━━━━━━━\u001b[0m \u001b[32m0.0/981.5 kB\u001b[0m \u001b[31m?\u001b[0m eta \u001b[36m-:--:--\u001b[0m\r\u001b[2K     \u001b[91m━━━━━\u001b[0m\u001b[90m╺\u001b[0m\u001b[90m━━━━━━━━━━━━━━━━━━━━━━━━━━━━━━━━━━\u001b[0m \u001b[32m122.9/981.5 kB\u001b[0m \u001b[31m4.5 MB/s\u001b[0m eta \u001b[36m0:00:01\u001b[0m\r\u001b[2K     \u001b[91m━━━━━━━━━━━━━━━━━━━━━━━━━━━━━━━━━━━━━━━\u001b[0m\u001b[91m╸\u001b[0m \u001b[32m972.8/981.5 kB\u001b[0m \u001b[31m14.4 MB/s\u001b[0m eta \u001b[36m0:00:01\u001b[0m\r\u001b[2K     \u001b[90m━━━━━━━━━━━━━━━━━━━━━━━━━━━━━━━━━━━━━━━━\u001b[0m \u001b[32m981.5/981.5 kB\u001b[0m \u001b[31m11.4 MB/s\u001b[0m eta \u001b[36m0:00:00\u001b[0m\n",
            "\u001b[?25h  Preparing metadata (setup.py) ... \u001b[?25l\u001b[?25hdone\n",
            "Requirement already satisfied: six in /usr/local/lib/python3.10/dist-packages (from langdetect) (1.17.0)\n",
            "Building wheels for collected packages: langdetect\n",
            "  Building wheel for langdetect (setup.py) ... \u001b[?25l\u001b[?25hdone\n",
            "  Created wheel for langdetect: filename=langdetect-1.0.9-py3-none-any.whl size=993222 sha256=c3a9d0890cb1026fedfa80c49b8dde91d4d0e2c498609ffc202e0e7bd400668f\n",
            "  Stored in directory: /root/.cache/pip/wheels/95/03/7d/59ea870c70ce4e5a370638b5462a7711ab78fba2f655d05106\n",
            "Successfully built langdetect\n",
            "Installing collected packages: langdetect\n",
            "Successfully installed langdetect-1.0.9\n"
          ]
        }
      ],
      "source": [
        "!pip install langdetect"
      ]
    },
    {
      "cell_type": "code",
      "execution_count": null,
      "metadata": {
        "id": "5yEPpiDxaHYE",
        "colab": {
          "base_uri": "https://localhost:8080/"
        },
        "outputId": "5f320a24-43cf-4cc8-c9da-416b2ce25636"
      },
      "outputs": [
        {
          "output_type": "stream",
          "name": "stdout",
          "text": [
            "en\n"
          ]
        }
      ],
      "source": [
        "from langdetect import detect\n",
        "print(detect(\"This is a test sentence.\"))"
      ]
    },
    {
      "cell_type": "code",
      "execution_count": null,
      "metadata": {
        "colab": {
          "base_uri": "https://localhost:8080/"
        },
        "id": "6Lj7MwZPaL-8",
        "outputId": "242e26d6-b89d-4194-9e51-1a6cf2f82d94"
      },
      "outputs": [
        {
          "output_type": "stream",
          "name": "stdout",
          "text": [
            "+-----+--------------------+--------------------+-----------+----------------------+---------+--------------------+--------------------+-------------------------+---------------+-------------+--------------------+--------------------+--------------------+--------------------+--------------------+--------------------+--------------------+--------------------+--------------------+--------------------+--------------------+---------------+-----------------+--------+\n",
            "|   id|           candidate|candidate_confidence|relevant_yn|relevant_yn_confidence|sentiment|sentiment_confidence|      subject_matter|subject_matter_confidence|           name|retweet_count|                text|         tweet_coord|       tweet_created|            tweet_id|      tweet_location|       user_timezone|               words|      filtered_words|       text_no_emoji|        text_no_urls|          text_clean|sentiment_label|sentiment_numeric|language|\n",
            "+-----+--------------------+--------------------+-----------+----------------------+---------+--------------------+--------------------+-------------------------+---------------+-------------+--------------------+--------------------+--------------------+--------------------+--------------------+--------------------+--------------------+--------------------+--------------------+--------------------+--------------------+---------------+-----------------+--------+\n",
            "| 7717|         John Kasich|              0.6897|        yes|                   1.0| Positive|              0.6437|            Religion|                   0.6437|     McMistress|            0|\"\"\"God gives me u...| I'm going to giv...|          my friends| and the people a...|                NULL|2015-08-07 08:00:...|[\"\"\"god, gives, m...|[\"\"\"god, gives, u...|\"\"\"God gives me u...|\"\"\"God gives me u...|   God gives me u...|       Positive|                1|      it|\n",
            "| 5395|        Scott Walker|              0.4178|        yes|                0.6463| Negative|              0.6463|            Abortion|                   0.4178|    SmittyMyBro|            0|  \"\"\"Governor Walker| you've...said yo...|              incest| or to save the l...|                NULL|                NULL|[\"\"\"governor, wal...|[\"\"\"governor, wal...|  \"\"\"Governor Walker|  \"\"\"Governor Walker|     Governor Walker|        Neutral|               -1|      no|\n",
            "| 7220|        Donald Trump|                 1.0|        yes|                   1.0| Negative|              0.6512|Women's Issues (n...|                   0.6512|    SmittyMyBro|            0|         \"\"\"Mr.Trump| you've called wo...|                dogs|               slobs| and disgusting a...|                NULL|       [\"\"\"mr.trump]|       [\"\"\"mr.trump]|         \"\"\"Mr.Trump|         \"\"\"Mr.Trump|            Mr Trump|        Neutral|               -1|      id|\n",
            "| 6775|        Donald Trump|              0.4227|        yes|                0.6502| Negative|              0.6502|   None of the above|                   0.4227|the_ken_leonard|            0|\"@NYTimeskrugman:...|       fundamentally|    an absurd figure| so are his rival...|                NULL|2015-08-07 08:15:...|[\"@nytimeskrugman...|[\"@nytimeskrugman...|\"@NYTimeskrugman:...|\"@NYTimeskrugman:...|  NYTimeskrugman ...|        Neutral|               -1|      id|\n",
            "|13052|No candidate ment...|              0.4492|        yes|                0.6702| Negative|              0.6702|         Immigration|                   0.2282|    maskedfairy|            0|       \"\"\"Illegals\"\"| \"\"prostitutes\"\"....|                NULL|2015-08-06 19:11:...|  629474808921739264|                NULL|     [\"\"\"illegals\"\"]|     [\"\"\"illegals\"\"]|       \"\"\"Illegals\"\"|       \"\"\"Illegals\"\"|          Illegals  |        Neutral|               -1|      ca|\n",
            "|11987|        Donald Trump|                 1.0|        yes|                   1.0| Positive|              0.3523|   None of the above|                      1.0|   RobsRamblins|            0|\"2 drinks -#Trump...| great.\"\" #GOPDeb...|                NULL|2015-08-06 19:27:...|  629479053108514816|                NULL|[\"2, drinks, -#tr...|[\"2, drinks, -#tr...|\"2 drinks -#Trump...|\"2 drinks -#Trump...|   drinks   Trump...|       Positive|                1|      lt|\n",
            "|10122|No candidate ment...|                 1.0|        yes|                   1.0| Negative|              0.6782|   None of the above|                   0.6437|   BiloFootball|            0|\"God said \"\"I'm G...| idiots. Leave me...|                NULL|2015-08-06 20:01:...|  629487444182732800|           Las Vegas|[\"god, said, \"\"i'...|[\"god, said, \"\"i'...|\"God said \"\"I'm G...|\"God said \"\"I'm G...| God said   I m G...|        Neutral|               -1|      cy|\n",
            "| 5332|No candidate ment...|                 1.0|        yes|                   1.0|  Neutral|              0.6444|   None of the above|                      1.0|    MelissaRyan|            1|    \"\"\"At #GOPDebate| I won over our l...|                NULL|2015-08-07 08:36:...|  629677567822446592|      Washington, DC| [\"\"\"at, #gopdebate]| [\"\"\"at, #gopdebate]|    \"\"\"At #GOPDebate|    \"\"\"At #GOPDebate|       At  GOPDebate|        Neutral|                0|      id|\n",
            "| 5272|No candidate ment...|                 1.0|        yes|                   1.0| Negative|                 1.0|FOX News or Moder...|                      1.0|  LizAnneKelley|            0|\"If @megynkelly m...| u r ugly! Doesn'...|                NULL|2015-08-07 08:37:...|  629677837860143104|Seeking My Place ...|[\"if, @megynkelly...|[\"if, @megynkelly...|\"If @megynkelly m...|\"If @megynkelly m...| If  megynkelly m...|        Neutral|               -1|      en|\n",
            "| 5223|        Donald Trump|                 1.0|        yes|                   1.0| Negative|              0.6484|   None of the above|                      1.0|     sandstone2|            0|\"#GOPDebate TRUMP...| but anger provok...|                NULL|2015-08-07 08:38:...|  629678012833878016|             Georgia|[\"#gopdebate, tru...|[\"#gopdebate, tru...|\"#GOPDebate TRUMP...|\"#GOPDebate TRUMP...|  GOPDebate TRUMP...|       Negative|               -1|      fr|\n",
            "| 7881|No candidate ment...|                 1.0|        yes|                   1.0| Negative|              0.6495|   None of the above|                      1.0|   jordangerous|            0|        \"\"\"Nevermore| Gipper\"\" -Ronald...|                NULL|2015-08-07 08:51:...|  629681210034262016|                NULL|      [\"\"\"nevermore]|      [\"\"\"nevermore]|        \"\"\"Nevermore|        \"\"\"Nevermore|           Nevermore|        Neutral|               -1|      nl|\n",
            "| 3968|           Rand Paul|              0.6895|        yes|                   1.0| Negative|              0.6895|   None of the above|                      1.0|   Clever_Otter|            0|\"Yikes. @RandPaul...| \"\"I HUGGED 9/11 ...|                NULL|2015-08-07 09:12:...|  629686605880516609|               Earth|[\"yikes., @randpa...|[\"yikes., @randpa...|\"Yikes. @RandPaul...|\"Yikes. @RandPaul...| Yikes   RandPaul...|        Neutral|               -1|      de|\n",
            "| 3120|        Donald Trump|                 1.0|        yes|                   1.0| Negative|                 1.0|   None of the above|                   0.6667|        Wolfrum|            1|        \"\"\"Oh Donald| again with your ...|                NULL|2015-08-07 09:22:...|  629689140846661632|              Brazil|     [\"\"\"oh, donald]|     [\"\"\"oh, donald]|        \"\"\"Oh Donald|        \"\"\"Oh Donald|           Oh Donald|        Neutral|               -1|      de|\n",
            "| 3035|           Rand Paul|                 1.0|        yes|                   1.0| Positive|              0.6454|   None of the above|                      1.0|       nickbabs|            0|\"Post #GOPdebate ...| #RandPaul was to...|                NULL|2015-08-07 09:23:...|  629689421550456832|Los Angeles / Chi...|[\"post, #gopdebat...|[\"post, #gopdebat...|\"Post #GOPdebate ...|\"Post #GOPdebate ...| Post  GOPdebate ...|        Neutral|                1|      de|\n",
            "|  322|No candidate ment...|              0.4594|        yes|                0.6778|  Neutral|              0.6778|   None of the above|                   0.4594|     JaxAlemany|            0|\"\"\"Because Republ...| @FrankLuntz #GOP...|                NULL|2015-08-07 09:52:...|  629696601473155072|        D.C. | N.H. |[\"\"\"because, repu...|[\"\"\"because, repu...|\"\"\"Because Republ...|\"\"\"Because Republ...|   Because Republ...|        Neutral|                0|      fr|\n",
            "|13745|        Donald Trump|                 1.0|        yes|                   1.0| Negative|                 1.0|   None of the above|                      1.0|     joeynovick|            1|#GOPDebate #Donal...|                NULL|2015-08-06 18:57:...|  629471451859521536|      Flemington, NJ|               Quito|[#gopdebate, #don...|[#gopdebate, #don...|#GOPDebate #Donal...|#GOPDebate #Donal...| GOPDebate  Donal...|        Neutral|               -1|      en|\n",
            "|13687|No candidate ment...|              0.6421|        yes|                   1.0| Positive|              0.3579|   None of the above|                      1.0|SupermanHotMale|            1|FEEL THE BERN @Se...|                NULL|2015-08-06 18:58:...|  629471760870588416|Cocoa Beach, Florida|Eastern Time (US ...|[feel, the, bern,...|[feel, bern, @sen...|FEEL THE BERN @Se...|FEEL THE BERN @Se...|FEEL THE BERN  Se...|        Neutral|                1|      de|\n",
            "|13532|        Donald Trump|              0.4444|        yes|                0.6667| Negative|              0.6667|   None of the above|                   0.4444|      AlegnaXXV|            0|@jbouie He's just...|                NULL|2015-08-06 19:02:...|  629472663325442048|                  NJ|Atlantic Time (Ca...|[@jbouie, he's, j...|[@jbouie, getting...|@jbouie He's just...|@jbouie He's just...| jbouie He s just...|        Neutral|               -1|      nl|\n",
            "|13511|          Ben Carson|                 1.0|        yes|                   1.0| Positive|                 1.0|   None of the above|                      1.0|       scottaxe|            0|#GOPdebates Carso...|                NULL|2015-08-06 19:02:...|  629472745613451264|        Los Angeles |                NULL|[#gopdebates, car...|[#gopdebates, car...|#GOPdebates Carso...|#GOPdebates Carso...| GOPdebates Carso...|        Neutral|                1|      en|\n",
            "|13363|           Rand Paul|                 1.0|        yes|                   1.0|  Neutral|              0.6292|   None of the above|                   0.6966|      snarkberg|            0|I'm voting for Ra...|                NULL|2015-08-06 19:05:...|  629473501846450176|     Ontario, Canada|                NULL|[i'm, voting, for...|[voting, rand, pa...|I'm voting for Ra...|I'm voting for Ra...|I m voting for Ra...|        Neutral|                0|      no|\n",
            "+-----+--------------------+--------------------+-----------+----------------------+---------+--------------------+--------------------+-------------------------+---------------+-------------+--------------------+--------------------+--------------------+--------------------+--------------------+--------------------+--------------------+--------------------+--------------------+--------------------+--------------------+---------------+-----------------+--------+\n",
            "only showing top 20 rows\n",
            "\n"
          ]
        }
      ],
      "source": [
        "from pyspark.sql.functions import col, when\n",
        "from langdetect import detect\n",
        "\n",
        "# Define the UDF for language detection\n",
        "def detect_language(text):\n",
        "    try:\n",
        "        return detect(text)\n",
        "    except:\n",
        "        return \"unknown\"\n",
        "\n",
        "detect_lang_udf = udf(detect_language, StringType())\n",
        "\n",
        "# Add a new column for language detection\n",
        "cleaned_df = cleaned_df.withColumn(\"language\", detect_lang_udf(col(\"text_clean\")))\n",
        "\n",
        "# Filter rows with languages other than English\n",
        "non_english_df = cleaned_df.filter(col(\"language\") != \"en\")\n",
        "\n",
        "# Check if there are any non-English rows\n",
        "if non_english_df.count() == 0:\n",
        "    print(\"No other language detected.\")\n",
        "else:\n",
        "    non_english_df.show(truncate=True)\n",
        "\n"
      ]
    },
    {
      "cell_type": "code",
      "execution_count": null,
      "metadata": {
        "colab": {
          "base_uri": "https://localhost:8080/"
        },
        "id": "I_cYWshsIv2G",
        "outputId": "1b7b1cc1-b8c4-4472-ae2f-1b6e1ace6af0"
      },
      "outputs": [
        {
          "output_type": "stream",
          "name": "stdout",
          "text": [
            "+-----+--------+\n",
            "|   id|language|\n",
            "+-----+--------+\n",
            "| 7717|      it|\n",
            "| 5395|      no|\n",
            "| 7220|      id|\n",
            "| 6775|      da|\n",
            "|13052|      ca|\n",
            "|11987|      lt|\n",
            "|10122|      cy|\n",
            "| 5332|      id|\n",
            "| 5223|      fr|\n",
            "| 7881|      nl|\n",
            "| 3968|      de|\n",
            "| 3120|      de|\n",
            "| 3035|      de|\n",
            "|  322|      fr|\n",
            "|13687|      de|\n",
            "|13532|      nl|\n",
            "|13362|      en|\n",
            "|13326|      et|\n",
            "|13313|      fr|\n",
            "|13104|      ca|\n",
            "+-----+--------+\n",
            "only showing top 20 rows\n",
            "\n"
          ]
        }
      ],
      "source": [
        "# Selecting only the 'id' and 'language' columns\n",
        "result_df = non_english_df.select(\"id\", \"language\")\n",
        "\n",
        "# Show the resulting DataFrame\n",
        "result_df.show()\n"
      ]
    },
    {
      "cell_type": "code",
      "execution_count": null,
      "metadata": {
        "colab": {
          "background_save": true
        },
        "id": "FB6Cm21_awgg"
      },
      "outputs": [],
      "source": [
        "\n",
        "#Inverse Document Frequency (IDF)\n",
        "# R2 indicates how well the independent variables explain the variance in the dependent variable.\n",
        "#RMSE gives an indication of prediction accuracy; lower values are better.\n",
        "\n",
        "\n",
        "#Interpretation: RMSE measures the average magnitude of the errors between predicted and actual sentiment values.\n",
        "# A lower RMSE value indicates better model performance, as it signifies that predictions are closer to the actual values.\n",
        "#Context: In this case, an RMSE of approximately 0.73 suggests that, on average, the predictions deviate from the actual sentiment\n",
        "#values by about 0.73 units on the numeric scale used for sentiment (where Positive = 1, Neutral = 0, Negative = -1).\n",
        "#Interpretation: R² indicates how well the independent variables explain the variance in the dependent variable (sentiment).\n",
        "#It ranges from 0 to 1, where a value closer to 1 means that a larger proportion of variance is explained by the model.\n",
        "#Context: An R² value of approximately 0.08 suggests that only about 8% of the variance in sentiment can be explained by the\n",
        "#features used in this model. This indicates that the model may not be capturing enough information from the data to make accurate predictions."
      ]
    },
    {
      "cell_type": "code",
      "execution_count": null,
      "metadata": {
        "id": "oB878IeRbLnS"
      },
      "outputs": [],
      "source": []
    }
  ],
  "metadata": {
    "colab": {
      "provenance": []
    },
    "kernelspec": {
      "display_name": "Python 3",
      "name": "python3"
    },
    "language_info": {
      "name": "python"
    }
  },
  "nbformat": 4,
  "nbformat_minor": 0
}